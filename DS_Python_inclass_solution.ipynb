{
  "nbformat": 4,
  "nbformat_minor": 0,
  "metadata": {
    "colab": {
      "provenance": [],
      "include_colab_link": true
    },
    "kernelspec": {
      "name": "python3",
      "display_name": "Python 3"
    },
    "language_info": {
      "name": "python"
    }
  },
  "cells": [
    {
      "cell_type": "markdown",
      "metadata": {
        "id": "view-in-github",
        "colab_type": "text"
      },
      "source": [
        "<a href=\"https://colab.research.google.com/github/karynkom/GoogleColab/blob/main/DS_Python_inclass_solution.ipynb\" target=\"_parent\"><img src=\"https://colab.research.google.com/assets/colab-badge.svg\" alt=\"Open In Colab\"/></a>"
      ]
    },
    {
      "cell_type": "markdown",
      "source": [
        "#Lab 1 Python Overview"
      ],
      "metadata": {
        "id": "RMaaHjv_Lgd1"
      }
    },
    {
      "cell_type": "code",
      "execution_count": null,
      "metadata": {
        "id": "fvjmyz5fLZOZ"
      },
      "outputs": [],
      "source": [
        "# write some of your code and press shift enter\n",
        "\n",
        "\n"
      ]
    },
    {
      "cell_type": "markdown",
      "source": [
        "#1. Variable and Operators"
      ],
      "metadata": {
        "id": "OkeqjoTxL7L9"
      }
    },
    {
      "cell_type": "code",
      "source": [
        "# variable\n",
        "pokemon_x = 12\n",
        "print(type(pokemon_x))\n",
        "pikkaju_ = \"sun and moon\"\n",
        "print(type(pikkaju_))\n",
        "doraemon3 = False\n",
        "print(type(doraemon3))"
      ],
      "metadata": {
        "colab": {
          "base_uri": "https://localhost:8080/"
        },
        "id": "atrZSivOLtm2",
        "outputId": "358cfc26-bf3f-4631-b12c-3ce57255182b"
      },
      "execution_count": null,
      "outputs": [
        {
          "output_type": "stream",
          "name": "stdout",
          "text": [
            "<class 'int'>\n",
            "<class 'str'>\n",
            "<class 'bool'>\n"
          ]
        }
      ]
    },
    {
      "cell_type": "code",
      "source": [
        "# type conversion\n",
        "# try adding above variables together\n",
        "str(pokemon_x) + pikkaju_\n",
        "pokemon_x + doraemon3"
      ],
      "metadata": {
        "id": "PHA9OgqwML_2",
        "colab": {
          "base_uri": "https://localhost:8080/"
        },
        "outputId": "d7a4077b-51e0-421e-a45a-8aa58aff6d8d"
      },
      "execution_count": null,
      "outputs": [
        {
          "output_type": "execute_result",
          "data": {
            "text/plain": [
              "12"
            ]
          },
          "metadata": {},
          "execution_count": 7
        }
      ]
    },
    {
      "cell_type": "code",
      "source": [
        "5+5.0"
      ],
      "metadata": {
        "colab": {
          "base_uri": "https://localhost:8080/"
        },
        "id": "ljC_tEJ8Q_Tu",
        "outputId": "a815095d-9766-45a3-e1ab-de00526666e9"
      },
      "execution_count": null,
      "outputs": [
        {
          "output_type": "execute_result",
          "data": {
            "text/plain": [
              "10.0"
            ]
          },
          "metadata": {},
          "execution_count": 8
        }
      ]
    },
    {
      "cell_type": "code",
      "source": [
        "# operator\n",
        "a = 1; a += 1\n",
        "print('add and assign', a)\n",
        "print(\"Modulos :  \",3%2)\n",
        "x = 30; y = 20\n",
        "print('x >= y is', x>=y)\n",
        "x=True; y=False\n",
        "print('x and y is',x and y)\n",
        "x = 'hello'\n",
        "print('h' in x)\n",
        "x = 300; y = 300\n",
        "# try uncomment the line below\n",
        "#y = x\n",
        "print(x is y)"
      ],
      "metadata": {
        "colab": {
          "base_uri": "https://localhost:8080/"
        },
        "id": "YRVXI7oDOA8r",
        "outputId": "0ac0d20c-2b7e-4c68-a0a0-3fa658cc6870"
      },
      "execution_count": null,
      "outputs": [
        {
          "output_type": "stream",
          "name": "stdout",
          "text": [
            "add and assign 2\n",
            "Modulos :   1\n",
            "x >= y is True\n",
            "x and y is False\n",
            "True\n",
            "False\n"
          ]
        }
      ]
    },
    {
      "cell_type": "markdown",
      "source": [
        "# 2. String and String Methods"
      ],
      "metadata": {
        "id": "3Iv9C6ZJQtfE"
      }
    },
    {
      "cell_type": "code",
      "source": [
        "# string indexing\n",
        "s = \"Python\"\n",
        "print(s[0])\n",
        "print(s[5])\n",
        "#print(s[6])#Error\n",
        "\n",
        "s = \"Python\"\n",
        "print(s[-1])\n",
        "print(s[-len(s)])\n",
        "#print(s[-7])#Error"
      ],
      "metadata": {
        "id": "WV4gDc8tP9qc"
      },
      "execution_count": null,
      "outputs": []
    },
    {
      "cell_type": "code",
      "source": [
        "# string slicing\n",
        "print(s[:]) # whole string\n",
        "print(s[:3]) # equivalent to print(s[0:3])\n",
        "print(s[2:]) # equivalent to print(s[2:len(s)])\n",
        "print(s[-2:-4]) # return empty string if a ≥ b\n",
        "print(s[-4:-2]) # from index -4 to -2"
      ],
      "metadata": {
        "id": "2A9wjGgLQz_O"
      },
      "execution_count": null,
      "outputs": []
    },
    {
      "cell_type": "code",
      "source": [
        "#try this\n",
        "print(s[1::1])\n",
        "print(s[1::2])\n",
        "print(s[1::3])\n",
        "\n",
        "#stepping#backward\n",
        "print(s[-2:-4:-1])\n",
        "print(s[::-1])"
      ],
      "metadata": {
        "id": "i-JLDFlDQ3gT"
      },
      "execution_count": null,
      "outputs": []
    },
    {
      "cell_type": "markdown",
      "source": [
        "## Exercise1\n",
        "Given a variable var = \"Fundamental Programming for Data Science“, write a program that can display its result as follows:\n",
        "\n",
        "![image.png](data:image/png;base64,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)"
      ],
      "metadata": {
        "id": "dmeGYNmmRBbl"
      }
    },
    {
      "cell_type": "code",
      "source": [
        "# Fill your code\n",
        "a = \"Fundamental Programming for Data Science\"\n",
        "a[:6]\n",
        "a[7:18]\n",
        "a[::2]\n",
        "a[0]+a[-1]\n",
        "a[::-1]\n",
        "a[::-2]"
      ],
      "metadata": {
        "id": "6OPZcZxGRB4q",
        "colab": {
          "base_uri": "https://localhost:8080/",
          "height": 36
        },
        "outputId": "5557e079-9d17-4a54-b1bb-2ac8f7b1b2dd"
      },
      "execution_count": null,
      "outputs": [
        {
          "output_type": "execute_result",
          "data": {
            "text/plain": [
              "'eniSaa o nmagr anmdu'"
            ],
            "application/vnd.google.colaboratory.intrinsic+json": {
              "type": "string"
            }
          },
          "metadata": {},
          "execution_count": 14
        }
      ]
    },
    {
      "cell_type": "code",
      "source": [
        "str1 = 'Hello Python'\n",
        "str2 = '   Hello Python   '\n",
        "# try s.<Tab>\n",
        "#Converts strings to lower case.\n",
        "print(str1.lower())\n",
        "#Converts strings to upper case.\n",
        "print(str1.upper())\n",
        "#Swaps the case lower/upper\n",
        "print(str1.swapcase())\n",
        "#Join all items in a tuple into a string, using ' ' as separator\n",
        "print(' '.join([str1, str2]))\n",
        "#Splits each string with the given pattern.\n",
        "print(str1.split())\n",
        "#Strip whitespace(including newline) from each from both the sides.\n",
        "print(str2.strip())\n",
        "print(str2.lstrip())\n",
        "print(str2.rstrip()) #try print(str1.rstrip('n')) #Hello Pytho\n",
        "#Alignment\n",
        "print(\"left aligned =\", str2.ljust(30))\n",
        "print(\"center aligned =\", str2.center(30))\n",
        "print(\"right aligned =\", str2.rjust(30))"
      ],
      "metadata": {
        "colab": {
          "base_uri": "https://localhost:8080/"
        },
        "id": "hFghW19xRaFU",
        "outputId": "40433227-2fb9-456a-fb97-b95dd8275f74"
      },
      "execution_count": null,
      "outputs": [
        {
          "output_type": "stream",
          "name": "stdout",
          "text": [
            "hello python\n",
            "HELLO PYTHON\n",
            "hELLO pYTHON\n",
            "Hello Python    Hello Python   \n",
            "['Hello', 'Python']\n",
            "Hello Python\n",
            "Hello Python   \n",
            "   Hello Python\n",
            "left aligned =    Hello Python               \n",
            "center aligned =          Hello Python         \n",
            "right aligned =                Hello Python   \n"
          ]
        }
      ]
    },
    {
      "cell_type": "code",
      "source": [
        "str3 = 'Hello me'\n",
        "\n",
        "#Replaces the value a with the value b.\n",
        "print(str3.replace('e','E'))\n",
        "#Returns count of appearance of pattern in each element.\n",
        "print(str3.count('m'))\n",
        "#Returns true if the element in the Series/Index starts with the pattern.\n",
        "print(str3.startswith('H'))\n",
        "#Returns true if the element in the Series/Index ends with the pattern.\n",
        "print(str3.endswith('o'))\n",
        "#Returns the first position of the first occurrence of the pattern.\n",
        "print(str3.find('e')) #try print(str3.rfind('e'))\n",
        "#Verify string - returns True/False\n",
        "print(str3.islower()) #Return True if all characters are lower case\n",
        "print(str3.isupper()) #Return True if all characters are upper case\n",
        "print(str3.isnumeric()) #Return True if all characters are numeric\n",
        "print(str3.isalpha()) #Return True if all characters are alphabet\n",
        "print(str3.isalnum()) #Return True if all characters are numeric or alphabet"
      ],
      "metadata": {
        "colab": {
          "base_uri": "https://localhost:8080/"
        },
        "id": "4zS-CxgRRaCO",
        "outputId": "d4b76a7b-5d53-482c-b4eb-39dc678ebbb6"
      },
      "execution_count": null,
      "outputs": [
        {
          "output_type": "stream",
          "name": "stdout",
          "text": [
            "HEllo mE\n",
            "1\n",
            "True\n",
            "False\n",
            "1\n",
            "False\n",
            "False\n",
            "False\n",
            "False\n",
            "False\n"
          ]
        }
      ]
    },
    {
      "cell_type": "markdown",
      "source": [
        "# 3. Function"
      ],
      "metadata": {
        "id": "22YhGMAgRanP"
      }
    },
    {
      "cell_type": "code",
      "source": [
        "# function\n",
        "#def cubic(length,width,height):\n",
        "def cubic(length,width,height,font='Courier'):\n",
        "  #print('length=',length, 'width=',width, 'height=',height)\n",
        "  print(f'length={length} width={width} height={height} font={font}')\n",
        "\n",
        "# must correct ordering\n",
        "cubic(1,2,3, 'angsana')\n",
        "# does not have to be correct ordering\n",
        "#cubic(length=1, height=3, width=2)"
      ],
      "metadata": {
        "colab": {
          "base_uri": "https://localhost:8080/"
        },
        "id": "d7oZonzSRcaG",
        "outputId": "2690d90e-eaf0-4fea-d46d-4188fe7b86a2"
      },
      "execution_count": null,
      "outputs": [
        {
          "output_type": "stream",
          "name": "stdout",
          "text": [
            "length=1 width=2 height=3 font=angsana\n"
          ]
        }
      ]
    },
    {
      "cell_type": "code",
      "source": [
        "print?"
      ],
      "metadata": {
        "id": "ECUDiCxFU1Tj"
      },
      "execution_count": null,
      "outputs": []
    },
    {
      "cell_type": "code",
      "source": [
        "# anonymous function\n",
        "# Define a function that accepts a function as an argument\n",
        "def apply_operation(func, a, b):\n",
        "    return func(a, b)\n",
        "\n",
        "# Call the function with the lambda function as an argument\n",
        "result = apply_operation(lambda x, y: x + y, 10, 20)\n",
        "result"
      ],
      "metadata": {
        "colab": {
          "base_uri": "https://localhost:8080/"
        },
        "id": "Y9Mw-TtHWIUK",
        "outputId": "ad4ac283-b0eb-470d-9e34-b333f3624106"
      },
      "execution_count": null,
      "outputs": [
        {
          "output_type": "execute_result",
          "data": {
            "text/plain": [
              "30"
            ]
          },
          "metadata": {},
          "execution_count": 43
        }
      ]
    },
    {
      "cell_type": "markdown",
      "source": [
        "## Exercise2\n",
        "Create a function named “hello” to get a person's name and return a greeting message, for example, if you enter “Rogers” as an input to the function, it should return “Hello Rogers”.\n"
      ],
      "metadata": {
        "id": "-JQqTr-rSnnC"
      }
    },
    {
      "cell_type": "code",
      "source": [
        "# Fill your code\n",
        "def hello(name):\n",
        "  print('Hello', name, sep='\\t')"
      ],
      "metadata": {
        "id": "zjGQGUdwShd4"
      },
      "execution_count": null,
      "outputs": []
    },
    {
      "cell_type": "code",
      "source": [
        "hello('Suron')\n"
      ],
      "metadata": {
        "colab": {
          "base_uri": "https://localhost:8080/"
        },
        "id": "3k-vydEoastt",
        "outputId": "ae7be2c5-92ff-4825-dfb8-adc1dac0affb"
      },
      "execution_count": null,
      "outputs": [
        {
          "output_type": "stream",
          "name": "stdout",
          "text": [
            "Hello\tSuron\n"
          ]
        }
      ]
    },
    {
      "cell_type": "markdown",
      "source": [
        "#4. Data Structure"
      ],
      "metadata": {
        "id": "Y1mIjTOSS5sw"
      }
    },
    {
      "cell_type": "code",
      "source": [
        "#blood = ['A','B', 'AB', 'O'] # List\n",
        "blood = ('A','B','AB','O') # tuple\n",
        "print(blood)\n",
        "# accessing elements (same concept as string indexing)\n",
        "# try get [\"B\",\"AB\"]\n",
        "print(blood[1:3]) # list and tuple\n",
        "# try append 123 at the end of the list (only list values can be changed - mutable concept)\n",
        "blood.append(123)\n",
        "print(blood)"
      ],
      "metadata": {
        "colab": {
          "base_uri": "https://localhost:8080/",
          "height": 269
        },
        "id": "jXOS_MEmSvHx",
        "outputId": "f2f60ed0-aee7-4526-e823-1b0d9a161df7"
      },
      "execution_count": null,
      "outputs": [
        {
          "output_type": "stream",
          "name": "stdout",
          "text": [
            "('A', 'B', 'AB', 'O')\n",
            "('B', 'AB')\n"
          ]
        },
        {
          "output_type": "error",
          "ename": "AttributeError",
          "evalue": "'tuple' object has no attribute 'append'",
          "traceback": [
            "\u001b[0;31m---------------------------------------------------------------------------\u001b[0m",
            "\u001b[0;31mAttributeError\u001b[0m                            Traceback (most recent call last)",
            "\u001b[0;32m<ipython-input-32-fc1dd4a52fe2>\u001b[0m in \u001b[0;36m<cell line: 8>\u001b[0;34m()\u001b[0m\n\u001b[1;32m      6\u001b[0m \u001b[0mprint\u001b[0m\u001b[0;34m(\u001b[0m\u001b[0mblood\u001b[0m\u001b[0;34m[\u001b[0m\u001b[0;36m1\u001b[0m\u001b[0;34m:\u001b[0m\u001b[0;36m3\u001b[0m\u001b[0;34m]\u001b[0m\u001b[0;34m)\u001b[0m \u001b[0;31m# list and tuple\u001b[0m\u001b[0;34m\u001b[0m\u001b[0;34m\u001b[0m\u001b[0m\n\u001b[1;32m      7\u001b[0m \u001b[0;31m# try append 123 at the end of the list (only list values can be changed - mutable concept)\u001b[0m\u001b[0;34m\u001b[0m\u001b[0;34m\u001b[0m\u001b[0m\n\u001b[0;32m----> 8\u001b[0;31m \u001b[0mblood\u001b[0m\u001b[0;34m.\u001b[0m\u001b[0mappend\u001b[0m\u001b[0;34m(\u001b[0m\u001b[0;36m123\u001b[0m\u001b[0;34m)\u001b[0m\u001b[0;34m\u001b[0m\u001b[0;34m\u001b[0m\u001b[0m\n\u001b[0m\u001b[1;32m      9\u001b[0m \u001b[0mprint\u001b[0m\u001b[0;34m(\u001b[0m\u001b[0mblood\u001b[0m\u001b[0;34m)\u001b[0m\u001b[0;34m\u001b[0m\u001b[0;34m\u001b[0m\u001b[0m\n",
            "\u001b[0;31mAttributeError\u001b[0m: 'tuple' object has no attribute 'append'"
          ]
        }
      ]
    },
    {
      "cell_type": "code",
      "source": [
        "blood = {'A','B','AB','O','O'} # set\n",
        "# accessing set elements\n",
        "for blood_type in blood:\n",
        "  print(blood_type)\n",
        "# try append 123 to the set (mutable)\n",
        "blood.add(123)\n",
        "print(blood)"
      ],
      "metadata": {
        "colab": {
          "base_uri": "https://localhost:8080/"
        },
        "id": "j2RawOB4dGaR",
        "outputId": "4aad582b-991a-49c8-a55d-9184682cf284"
      },
      "execution_count": null,
      "outputs": [
        {
          "output_type": "stream",
          "name": "stdout",
          "text": [
            "O\n",
            "A\n",
            "AB\n",
            "B\n",
            "{'A', 'O', 'B', 123, 'AB'}\n"
          ]
        }
      ]
    },
    {
      "cell_type": "code",
      "source": [
        "data = {'Alice':[25, 'F', 67],'Bob':[30,'M',55],'Cathy':[20,'F',89]} #dict\n",
        "print(data)\n",
        "# accessing dict elements\n",
        "# try to get Bob data\n",
        "print(data['Bob'])\n",
        "# try to get Cathy Sex\n",
        "print(data['Cathy'][1])\n",
        "# try adding one more people (mutable)\n",
        "data['Danial'] = []\n",
        "print(data)"
      ],
      "metadata": {
        "colab": {
          "base_uri": "https://localhost:8080/"
        },
        "id": "k5G1N8Wub5kv",
        "outputId": "e9d198fd-50ba-46b5-8b73-668fed41a7b2"
      },
      "execution_count": null,
      "outputs": [
        {
          "output_type": "stream",
          "name": "stdout",
          "text": [
            "{'Alice': [25, 'F', 67], 'Bob': [30, 'M', 55], 'Cathy': [20, 'F', 89]}\n",
            "[30, 'M', 55]\n",
            "F\n",
            "{'Alice': [25, 'F', 67], 'Bob': [30, 'M', 55], 'Cathy': [20, 'F', 89], 'Danial': []}\n"
          ]
        }
      ]
    },
    {
      "cell_type": "markdown",
      "source": [
        "#5. Selection"
      ],
      "metadata": {
        "id": "ZuKphmVwi9kP"
      }
    },
    {
      "cell_type": "code",
      "source": [
        "# 1 direction\n",
        "age = input(\"Please enter your age\\n\")\n",
        "if int(age) >= 60:\n",
        "  print(\"You are senior\")"
      ],
      "metadata": {
        "id": "oQhgdBqBfyk5"
      },
      "execution_count": null,
      "outputs": []
    },
    {
      "cell_type": "markdown",
      "source": [
        "## Exercise3\n",
        "Write a program to receive 2 strings. If both strings are the same, display \"OK“ otherwise, display \"Incorrect!!!“ to the console. Note that this code should be able to ignore the fact that both strings are uppercase or lowercase and will assume it to be the same word (e.g. goat = Goat = GOAT = gOaT etc)."
      ],
      "metadata": {
        "id": "NwV_CVdQjORI"
      }
    },
    {
      "cell_type": "code",
      "source": [
        "# 2 direction\n",
        "# Fill your code\n",
        "# receive 2 strings.\n",
        "a=input('Enter a')\n",
        "b=input('Enter b')\n",
        "# if both strings are the same, # display OK\n",
        "if a.lower()==b.lower():\n",
        "  print('ok')\n",
        "# otherwise(if both strings are not the same) # display Incorrect!!!\n",
        "else:\n",
        "  print('Not Correct')"
      ],
      "metadata": {
        "id": "-wLcY47PjCWj",
        "colab": {
          "base_uri": "https://localhost:8080/"
        },
        "outputId": "886f059a-769b-4ffb-a597-a73376fe6fc8"
      },
      "execution_count": null,
      "outputs": [
        {
          "output_type": "stream",
          "name": "stdout",
          "text": [
            "Enter agoat\n",
            "Enter bGoat\n",
            "ok\n"
          ]
        }
      ]
    },
    {
      "cell_type": "code",
      "source": [
        "# complex selection\n",
        "age = input(\"Please enter your age\\n\")\n",
        "\n",
        "if int(age) >= 60:\n",
        "\tprint(\"You are senior.\")\n",
        "elif int(age) >= 20:\n",
        "\tprint(\"You are adult.\")\n",
        "elif int(age) >= 13:\n",
        "\tprint(\"You are teenager.\")\n",
        "else:\n",
        "\tprint(\"You are children.\")"
      ],
      "metadata": {
        "id": "RnXFuCNWjfu-"
      },
      "execution_count": null,
      "outputs": []
    },
    {
      "cell_type": "markdown",
      "source": [
        "# 6. Looping"
      ],
      "metadata": {
        "id": "jz7QsYk7jfK1"
      }
    },
    {
      "cell_type": "code",
      "source": [
        "# while\n",
        "count=1\n",
        "while (count<10):\n",
        "  print(count)\n",
        "  count = count + 1"
      ],
      "metadata": {
        "colab": {
          "base_uri": "https://localhost:8080/"
        },
        "id": "A8bUj4cajlqI",
        "outputId": "fcb1ffe7-2436-4566-f052-2777f8452a39"
      },
      "execution_count": null,
      "outputs": [
        {
          "output_type": "stream",
          "name": "stdout",
          "text": [
            "1\n",
            "2\n",
            "3\n",
            "4\n",
            "5\n",
            "6\n",
            "7\n",
            "8\n",
            "9\n"
          ]
        }
      ]
    },
    {
      "cell_type": "code",
      "source": [
        "# for loop\n",
        "a = [1,2,3]\n",
        "b = (1,2,3)\n",
        "c = {1,2,3}\n",
        "s = \"123\"\n",
        "for num in s:#also try b, c, s\n",
        "  print(num)"
      ],
      "metadata": {
        "colab": {
          "base_uri": "https://localhost:8080/"
        },
        "id": "gOLV0wJ9jr8v",
        "outputId": "77b6af4b-8bc3-4486-da3c-df9102f4ef3d"
      },
      "execution_count": null,
      "outputs": [
        {
          "output_type": "stream",
          "name": "stdout",
          "text": [
            "1\n",
            "2\n",
            "3\n"
          ]
        }
      ]
    },
    {
      "cell_type": "code",
      "source": [
        "d = {\"a\":1, \"b\":2, \"c\":3}\n",
        "#for i in d:\n",
        "#  print(i); print(d[i])\n",
        "for i in d.items():\n",
        "  print(i)"
      ],
      "metadata": {
        "colab": {
          "base_uri": "https://localhost:8080/"
        },
        "id": "1nV7YRlSjz2Z",
        "outputId": "f32d556c-86e0-4e38-b64e-ecc26fe886c1"
      },
      "execution_count": null,
      "outputs": [
        {
          "output_type": "stream",
          "name": "stdout",
          "text": [
            "('a', 1)\n",
            "('b', 2)\n",
            "('c', 3)\n"
          ]
        }
      ]
    },
    {
      "cell_type": "code",
      "source": [
        "# range function\n",
        "for i in range(1,10):\n",
        "  print(i)"
      ],
      "metadata": {
        "colab": {
          "base_uri": "https://localhost:8080/"
        },
        "id": "yuYHzZbFj2HM",
        "outputId": "f734e3e8-4222-4f64-8455-fc96d3b9102f"
      },
      "execution_count": null,
      "outputs": [
        {
          "output_type": "stream",
          "name": "stdout",
          "text": [
            "1\n",
            "2\n",
            "3\n",
            "4\n",
            "5\n",
            "6\n",
            "7\n",
            "8\n",
            "9\n"
          ]
        }
      ]
    },
    {
      "cell_type": "code",
      "source": [
        "a = ['a','b','c']\n",
        "for i in range(len(a)):\n",
        "  print(a[i])"
      ],
      "metadata": {
        "colab": {
          "base_uri": "https://localhost:8080/"
        },
        "id": "ntoNnfuej7g-",
        "outputId": "c66cdb8e-2d26-4cd3-8ae0-c892f469e174"
      },
      "execution_count": null,
      "outputs": [
        {
          "output_type": "stream",
          "name": "stdout",
          "text": [
            "a\n",
            "b\n",
            "c\n"
          ]
        }
      ]
    },
    {
      "cell_type": "markdown",
      "source": [
        "## Exercise 4\n",
        "Write a program to display values in the dict. in ascending order sorted by capital city\n",
        "<br>\n",
        "country_capital = {\"United States\" : \"Washington\",\"Canada\" : \"Ottawa\",\"Germany\": \"Berlin\",\"France\" : \"Paris\",\"England\" : \"London\",\"Switzerland\" : \"Bern\",\"Austria\" : \"Vienna\",\"Netherlands\" : \"Amsterdam\"}\n",
        "<br>\n",
        "![image.png](data:image/png;base64,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)\n",
        "Hint: print(sorted(country_capital))\n",
        "![image.png](data:image/png;base64,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)\n"
      ],
      "metadata": {
        "id": "V97fZ8hNkDCj"
      }
    },
    {
      "cell_type": "code",
      "source": [
        "country_capital = {\"United States\" : \"Washington\",\"Canada\" : \"Ottawa\",\"Germany\": \"Berlin\",\"France\" :\n",
        "                   \"Paris\",\"England\" : \"London\",\"Switzerland\" : \"Bern\",\"Austria\" : \"Vienna\",\"Netherlands\" : \"Amsterdam\"}\n",
        "\n",
        "country_capital"
      ],
      "metadata": {
        "colab": {
          "base_uri": "https://localhost:8080/"
        },
        "id": "ZdBZw_CSj8Fz",
        "outputId": "d58c6afd-8bba-4e50-cf8a-1a3112777151"
      },
      "execution_count": null,
      "outputs": [
        {
          "output_type": "execute_result",
          "data": {
            "text/plain": [
              "{'United States': 'Washington',\n",
              " 'Canada': 'Ottawa',\n",
              " 'Germany': 'Berlin',\n",
              " 'France': 'Paris',\n",
              " 'England': 'London',\n",
              " 'Switzerland': 'Bern',\n",
              " 'Austria': 'Vienna',\n",
              " 'Netherlands': 'Amsterdam'}"
            ]
          },
          "metadata": {},
          "execution_count": 40
        }
      ]
    },
    {
      "cell_type": "code",
      "source": [
        "# Fill your code\n",
        "capital_country ={}\n",
        "for i,j in country_capital.items():\n",
        "  #print(i,j)\n",
        "  capital_country[j] = i\n",
        "\n",
        "sorted(capital_country)\n",
        "\n",
        "#shortcut\n",
        "sorted(country_capital.values())"
      ],
      "metadata": {
        "id": "dHAAfwdrmvKa",
        "colab": {
          "base_uri": "https://localhost:8080/"
        },
        "outputId": "f31069f0-4b8c-471e-e902-8b1b39d24587"
      },
      "execution_count": null,
      "outputs": [
        {
          "output_type": "execute_result",
          "data": {
            "text/plain": [
              "['Amsterdam',\n",
              " 'Berlin',\n",
              " 'Bern',\n",
              " 'London',\n",
              " 'Ottawa',\n",
              " 'Paris',\n",
              " 'Vienna',\n",
              " 'Washington']"
            ]
          },
          "metadata": {},
          "execution_count": 47
        }
      ]
    },
    {
      "cell_type": "markdown",
      "source": [
        "##Exercise5\n",
        "![image.png](data:image/png;base64,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)\n",
        "<br>\n",
        "![image.png](data:image/png;base64,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)<br>\n",
        "![image.png](data:image/png;base64,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)"
      ],
      "metadata": {
        "id": "e1MzAVC2ks78"
      }
    },
    {
      "cell_type": "code",
      "source": [
        "# Fill your code\n",
        "s = ['cat','rat','bat','drive','pycharm']\n",
        "\n",
        "[i.upper() for i in s]"
      ],
      "metadata": {
        "id": "ACVG6sKckx7h",
        "colab": {
          "base_uri": "https://localhost:8080/"
        },
        "outputId": "7a733260-8f22-4b8b-9bb2-6dfed4556258"
      },
      "execution_count": null,
      "outputs": [
        {
          "output_type": "execute_result",
          "data": {
            "text/plain": [
              "['CAT', 'RAT', 'BAT', 'DRIVE', 'PYCHARM']"
            ]
          },
          "metadata": {},
          "execution_count": 49
        }
      ]
    }
  ]
}